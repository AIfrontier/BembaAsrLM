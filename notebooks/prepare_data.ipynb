{
  "nbformat": 4,
  "nbformat_minor": 0,
  "metadata": {
    "colab": {
      "name": "prepare_data.ipynb",
      "provenance": [],
      "collapsed_sections": [],
      "mount_file_id": "1cX-uNgu7xssPxZdakRDMFIiGlbz5Ycad",
      "authorship_tag": "ABX9TyM6MmiP0w5FsZ1vJay5eJwX",
      "include_colab_link": true
    },
    "kernelspec": {
      "name": "python3",
      "display_name": "Python 3"
    }
  },
  "cells": [
    {
      "cell_type": "markdown",
      "metadata": {
        "id": "view-in-github",
        "colab_type": "text"
      },
      "source": [
        "<a href=\"https://colab.research.google.com/github/csikasote/BembaASR/blob/main/notebooks/prepare_data.ipynb\" target=\"_parent\"><img src=\"https://colab.research.google.com/assets/colab-badge.svg\" alt=\"Open In Colab\"/></a>"
      ]
    },
    {
      "cell_type": "markdown",
      "metadata": {
        "id": "YAaW7Pp76oFx"
      },
      "source": [
        "STEP 1: EXTRACT AND PREPARE DATA FOR DEEPSPEECH "
      ]
    },
    {
      "cell_type": "markdown",
      "metadata": {
        "id": "3A0ca9UV7s7G"
      },
      "source": [
        "- The zipped folder of the dataset is already uploaded in the gdrive. What remains is extracting and generating the CSV files for DeepSpeech model."
      ]
    },
    {
      "cell_type": "code",
      "metadata": {
        "id": "NLQYJd2Q3s1u"
      },
      "source": [
        "%cd '/content/drive/MyDrive/deepspeech/datastore_dir'\n",
        "!unzip deepspeech_dts.zip\n",
        "from IPython.display import clear_output\n",
        "clear_output()"
      ],
      "execution_count": null,
      "outputs": []
    },
    {
      "cell_type": "code",
      "metadata": {
        "colab": {
          "base_uri": "https://localhost:8080/"
        },
        "id": "wfeAxiWZJ8Vp",
        "outputId": "1547c108-1cb0-433d-a57d-f7dbe9056840"
      },
      "source": [
        "%cd '/content/drive/MyDrive/deepspeech/datastore_dir/deepspeech_dts'\r\n",
        "!pip3 install sox\r\n",
        "!python3 prepare.py"
      ],
      "execution_count": null,
      "outputs": [
        {
          "output_type": "stream",
          "text": [
            "/content/drive/MyDrive/deepspeech/datastore_dir/deepspeech_dts\n",
            "Requirement already satisfied: sox in /usr/local/lib/python3.6/dist-packages (1.4.1)\n",
            "Requirement already satisfied: numpy>=1.9.0 in /usr/local/lib/python3.6/dist-packages (from sox) (1.19.4)\n",
            "/bin/sh: 1: sox: not found\n",
            "SoX could not be found!\n",
            "\n",
            "    If you do not have SoX, proceed here:\n",
            "     - - - http://sox.sourceforge.net/ - - -\n",
            "\n",
            "    If you do (or think that you should) have SoX, double-check your\n",
            "    path variables.\n",
            "    \n",
            "2021-01-02 16:19:37.471488: I tensorflow/stream_executor/platform/default/dso_loader.cc:49] Successfully opened dynamic library libcudart.so.10.1\n",
            "Preparing audio data and generating csv files for deepspeech model ...\n",
            "100% (3 of 3) |###########################| Elapsed Time: 0:20:53 Time:  0:20:53\n"
          ],
          "name": "stdout"
        }
      ]
    },
    {
      "cell_type": "code",
      "metadata": {
        "id": "eWs8XrSPRiFj"
      },
      "source": [
        ""
      ],
      "execution_count": null,
      "outputs": []
    }
  ]
}